{
 "cells": [
  {
   "cell_type": "code",
   "execution_count": 1,
   "metadata": {
    "collapsed": true,
    "ExecuteTime": {
     "start_time": "2023-07-23T02:40:00.065337Z",
     "end_time": "2023-07-23T02:40:01.106725Z"
    }
   },
   "outputs": [],
   "source": [
    "import pandas as pd"
   ]
  },
  {
   "cell_type": "code",
   "execution_count": 2,
   "outputs": [
    {
     "name": "stderr",
     "output_type": "stream",
     "text": [
      "b'Skipping line 6452: expected 8 fields, saw 9\\nSkipping line 43667: expected 8 fields, saw 10\\nSkipping line 51751: expected 8 fields, saw 9\\n'\n",
      "b'Skipping line 92038: expected 8 fields, saw 9\\nSkipping line 104319: expected 8 fields, saw 9\\nSkipping line 121768: expected 8 fields, saw 9\\n'\n",
      "b'Skipping line 144058: expected 8 fields, saw 9\\nSkipping line 150789: expected 8 fields, saw 9\\nSkipping line 157128: expected 8 fields, saw 9\\nSkipping line 180189: expected 8 fields, saw 9\\nSkipping line 185738: expected 8 fields, saw 9\\n'\n",
      "b'Skipping line 209388: expected 8 fields, saw 9\\nSkipping line 220626: expected 8 fields, saw 9\\nSkipping line 227933: expected 8 fields, saw 11\\nSkipping line 228957: expected 8 fields, saw 10\\nSkipping line 245933: expected 8 fields, saw 9\\nSkipping line 251296: expected 8 fields, saw 9\\nSkipping line 259941: expected 8 fields, saw 9\\nSkipping line 261529: expected 8 fields, saw 9\\n'\n",
      "D:\\Program Files\\anaconda3\\envs\\book-recommendation-system\\lib\\site-packages\\IPython\\core\\interactiveshell.py:3266: DtypeWarning: Columns (3) have mixed types.Specify dtype option on import or set low_memory=False.\n",
      "  has_raised = await self.run_ast_nodes(code_ast.body, cell_name,\n"
     ]
    }
   ],
   "source": [
    "# Load user data\n",
    "users = pd.read_csv('../data/raw/BX-Users.csv', sep=';', error_bad_lines=False, encoding=\"latin-1\")\n",
    "users.columns = ['userID', 'Location', 'Age']\n",
    "\n",
    "# Load books data\n",
    "books = pd.read_csv('../data/raw/BX-Books.csv', sep=';', error_bad_lines=False, encoding=\"latin-1\")\n",
    "books.columns = ['ISBN', 'bookTitle', 'bookAuthor', 'yearOfPublication', 'publisher', 'imageUrlS', 'imageUrlM', 'imageUrlL']\n",
    "\n",
    "# Load ratings data\n",
    "ratings = pd.read_csv('../data/raw/BX-Book-Ratings.csv', sep=';', error_bad_lines=False, encoding=\"latin-1\")\n",
    "ratings.columns = ['userID', 'ISBN', 'bookRating']"
   ],
   "metadata": {
    "collapsed": false,
    "ExecuteTime": {
     "start_time": "2023-07-23T02:40:01.107726Z",
     "end_time": "2023-07-23T02:40:03.567444Z"
    }
   }
  },
  {
   "cell_type": "markdown",
   "source": [
    "### Handling Missing Values and Data Formatting"
   ],
   "metadata": {
    "collapsed": false
   }
  },
  {
   "cell_type": "code",
   "execution_count": 3,
   "outputs": [
    {
     "name": "stdout",
     "output_type": "stream",
     "text": [
      "              ISBN                                          bookTitle  \\\n",
      "187689  9627982032  The Credit Suisse Guide to Managing Your Perso...   \n",
      "\n",
      "                 bookAuthor yearOfPublication                       publisher  \\\n",
      "187689  Larissa Anne Downes              1995  Edinburgh Financial Publishing   \n",
      "\n",
      "                                                imageUrlS  \\\n",
      "187689  http://images.amazon.com/images/P/9627982032.0...   \n",
      "\n",
      "                                                imageUrlM  \\\n",
      "187689  http://images.amazon.com/images/P/9627982032.0...   \n",
      "\n",
      "                                                imageUrlL  \n",
      "187689  http://images.amazon.com/images/P/9627982032.0...  \n",
      "              ISBN        bookTitle       bookAuthor yearOfPublication  \\\n",
      "128890  193169656X      Tyrant Moon  Elaine Corvidae              2002   \n",
      "129037  1931696993  Finders Keepers  Linnea Sinclair              2001   \n",
      "\n",
      "                            publisher  \\\n",
      "128890        NovelBooks Incorporated   \n",
      "129037  Random House Publishing Group   \n",
      "\n",
      "                                                imageUrlS  \\\n",
      "128890  http://images.amazon.com/images/P/193169656X.0...   \n",
      "129037  http://images.amazon.com/images/P/1931696993.0...   \n",
      "\n",
      "                                                imageUrlM  \\\n",
      "128890  http://images.amazon.com/images/P/193169656X.0...   \n",
      "129037  http://images.amazon.com/images/P/1931696993.0...   \n",
      "\n",
      "                                                imageUrlL  \n",
      "128890  http://images.amazon.com/images/P/193169656X.0...  \n",
      "129037  http://images.amazon.com/images/P/1931696993.0...  \n"
     ]
    }
   ],
   "source": [
    "# Find the books with missing 'bookAuthor' information\n",
    "missing_authors = books[books['bookAuthor'].isnull()]\n",
    "\n",
    "# Assuming you found that the book with missing 'bookAuthor' was written by 'Author Name'\n",
    "books.at[missing_authors.index, 'bookAuthor'] = 'Larissa Anne Downes'\n",
    "\n",
    "# Find the books with missing 'publisher' information\n",
    "missing_publishers = books[books['publisher'].isnull()]\n",
    "\n",
    "# Assuming you found that the books with missing 'publisher' were published by 'Publisher Name' and 'Publisher Name 2'\n",
    "books.at[missing_publishers.index[0], 'publisher'] = 'NovelBooks Incorporated'\n",
    "books.at[missing_publishers.index[1], 'publisher'] = 'Random House Publishing Group'\n",
    "\n",
    "print(books.loc[missing_authors.index])\n",
    "print(books.loc[missing_publishers.index])"
   ],
   "metadata": {
    "collapsed": false,
    "ExecuteTime": {
     "start_time": "2023-07-23T02:40:03.573444Z",
     "end_time": "2023-07-23T02:40:03.630447Z"
    }
   }
  },
  {
   "cell_type": "code",
   "execution_count": 4,
   "outputs": [
    {
     "data": {
      "text/plain": "Index(['userID', 'Location'], dtype='object')"
     },
     "execution_count": 4,
     "metadata": {},
     "output_type": "execute_result"
    }
   ],
   "source": [
    "# Drop the 'Age' column from the Users dataframe\n",
    "users = users.drop(columns='Age')\n",
    "users.columns"
   ],
   "metadata": {
    "collapsed": false,
    "ExecuteTime": {
     "start_time": "2023-07-23T02:40:03.634442Z",
     "end_time": "2023-07-23T02:40:03.697443Z"
    }
   }
  },
  {
   "cell_type": "code",
   "execution_count": 32,
   "outputs": [
    {
     "name": "stdout",
     "output_type": "stream",
     "text": [
      "Data types for the Users dataframe:\n",
      "userID       int64\n",
      "Location    object\n",
      "dtype: object\n",
      "\n",
      "Data types for the Books dataframe:\n",
      "ISBN                 object\n",
      "bookTitle            object\n",
      "bookAuthor           object\n",
      "yearOfPublication     int32\n",
      "publisher            object\n",
      "imageUrlS            object\n",
      "imageUrlM            object\n",
      "imageUrlL            object\n",
      "dtype: object\n",
      "\n",
      "Data types for the Ratings dataframe:\n",
      "userID         int64\n",
      "ISBN          object\n",
      "bookRating     int64\n",
      "dtype: object\n"
     ]
    }
   ],
   "source": [
    "print(\"Data types for the Users dataframe:\")\n",
    "print(users.dtypes)\n",
    "\n",
    "print(\"\\nData types for the Books dataframe:\")\n",
    "print(books.dtypes)\n",
    "\n",
    "print(\"\\nData types for the Ratings dataframe:\")\n",
    "print(ratings.dtypes)"
   ],
   "metadata": {
    "collapsed": false,
    "ExecuteTime": {
     "start_time": "2023-07-23T12:59:14.685451Z",
     "end_time": "2023-07-23T12:59:14.762752Z"
    }
   }
  },
  {
   "cell_type": "code",
   "execution_count": 6,
   "outputs": [
    {
     "name": "stdout",
     "output_type": "stream",
     "text": [
      "Unique values in 'yearOfPublication' column:\n",
      "[2002 2001 1991 1999 2000 1993 1996 1988 2004 1998 1994 2003 1997 1983\n",
      " 1979 1995 1982 1985 1992 1986 1978 1980 1952 1987 1990 1981 1989 1984 0\n",
      " 1968 1961 1958 1974 1976 1971 1977 1975 1965 1941 1970 1962 1973 1972\n",
      " 1960 1966 1920 1956 1959 1953 1951 1942 1963 1964 1969 1954 1950 1967\n",
      " 2005 1957 1940 1937 1955 1946 1936 1930 2011 1925 1948 1943 1947 1945\n",
      " 1923 2020 1939 1926 1938 2030 1911 1904 1949 1932 1928 1929 1927 1931\n",
      " 1914 2050 1934 1910 1933 1902 1924 1921 1900 2038 2026 1944 1917 1901\n",
      " 2010 1908 1906 1935 1806 2021 '2000' '1995' '1999' '2004' '2003' '1990'\n",
      " '1994' '1986' '1989' '2002' '1981' '1993' '1983' '1982' '1976' '1991'\n",
      " '1977' '1998' '1992' '1996' '0' '1997' '2001' '1974' '1968' '1987' '1984'\n",
      " '1988' '1963' '1956' '1970' '1985' '1978' '1973' '1980' '1979' '1975'\n",
      " '1969' '1961' '1965' '1939' '1958' '1950' '1953' '1966' '1971' '1959'\n",
      " '1972' '1955' '1957' '1945' '1960' '1967' '1932' '1924' '1964' '2012'\n",
      " '1911' '1927' '1948' '1962' '2006' '1952' '1940' '1951' '1931' '1954'\n",
      " '2005' '1930' '1941' '1944' 'DK Publishing Inc' '1943' '1938' '1900'\n",
      " '1942' '1923' '1920' '1933' 'Gallimard' '1909' '1946' '2008' '1378'\n",
      " '2030' '1936' '1947' '2011' '2020' '1919' '1949' '1922' '1897' '2024'\n",
      " '1376' '1926' '2037']\n"
     ]
    }
   ],
   "source": [
    "print(\"Unique values in 'yearOfPublication' column:\")\n",
    "print(books['yearOfPublication'].unique())"
   ],
   "metadata": {
    "collapsed": false,
    "ExecuteTime": {
     "start_time": "2023-07-23T02:40:03.682452Z",
     "end_time": "2023-07-23T02:40:03.778441Z"
    }
   }
  },
  {
   "cell_type": "code",
   "execution_count": 7,
   "outputs": [
    {
     "data": {
      "text/plain": "              ISBN                                          bookTitle  \\\n209538  078946697X  DK Readers: Creating the X-Men, How It All Beg...   \n220731  2070426769  Peuple du ciel, suivi de 'Les Bergers\\\";Jean-M...   \n221678  0789466953  DK Readers: Creating the X-Men, How Comic Book...   \n\n       bookAuthor  yearOfPublication  \\\n209538       2000  DK Publishing Inc   \n220731       2003          Gallimard   \n221678       2000  DK Publishing Inc   \n\n                                                publisher  \\\n209538  http://images.amazon.com/images/P/078946697X.0...   \n220731  http://images.amazon.com/images/P/2070426769.0...   \n221678  http://images.amazon.com/images/P/0789466953.0...   \n\n                                                imageUrlS  \\\n209538  http://images.amazon.com/images/P/078946697X.0...   \n220731  http://images.amazon.com/images/P/2070426769.0...   \n221678  http://images.amazon.com/images/P/0789466953.0...   \n\n                                                imageUrlM imageUrlL  \n209538  http://images.amazon.com/images/P/078946697X.0...       NaN  \n220731  http://images.amazon.com/images/P/2070426769.0...       NaN  \n221678  http://images.amazon.com/images/P/0789466953.0...       NaN  ",
      "text/html": "<div>\n<style scoped>\n    .dataframe tbody tr th:only-of-type {\n        vertical-align: middle;\n    }\n\n    .dataframe tbody tr th {\n        vertical-align: top;\n    }\n\n    .dataframe thead th {\n        text-align: right;\n    }\n</style>\n<table border=\"1\" class=\"dataframe\">\n  <thead>\n    <tr style=\"text-align: right;\">\n      <th></th>\n      <th>ISBN</th>\n      <th>bookTitle</th>\n      <th>bookAuthor</th>\n      <th>yearOfPublication</th>\n      <th>publisher</th>\n      <th>imageUrlS</th>\n      <th>imageUrlM</th>\n      <th>imageUrlL</th>\n    </tr>\n  </thead>\n  <tbody>\n    <tr>\n      <th>209538</th>\n      <td>078946697X</td>\n      <td>DK Readers: Creating the X-Men, How It All Beg...</td>\n      <td>2000</td>\n      <td>DK Publishing Inc</td>\n      <td>http://images.amazon.com/images/P/078946697X.0...</td>\n      <td>http://images.amazon.com/images/P/078946697X.0...</td>\n      <td>http://images.amazon.com/images/P/078946697X.0...</td>\n      <td>NaN</td>\n    </tr>\n    <tr>\n      <th>220731</th>\n      <td>2070426769</td>\n      <td>Peuple du ciel, suivi de 'Les Bergers\\\";Jean-M...</td>\n      <td>2003</td>\n      <td>Gallimard</td>\n      <td>http://images.amazon.com/images/P/2070426769.0...</td>\n      <td>http://images.amazon.com/images/P/2070426769.0...</td>\n      <td>http://images.amazon.com/images/P/2070426769.0...</td>\n      <td>NaN</td>\n    </tr>\n    <tr>\n      <th>221678</th>\n      <td>0789466953</td>\n      <td>DK Readers: Creating the X-Men, How Comic Book...</td>\n      <td>2000</td>\n      <td>DK Publishing Inc</td>\n      <td>http://images.amazon.com/images/P/0789466953.0...</td>\n      <td>http://images.amazon.com/images/P/0789466953.0...</td>\n      <td>http://images.amazon.com/images/P/0789466953.0...</td>\n      <td>NaN</td>\n    </tr>\n  </tbody>\n</table>\n</div>"
     },
     "execution_count": 7,
     "metadata": {},
     "output_type": "execute_result"
    }
   ],
   "source": [
    "# Identify rows with non-numeric 'yearOfPublication' values\n",
    "non_numeric_years = books['yearOfPublication'].apply(lambda x: not str(x).isdigit())\n",
    "books_with_non_numeric_years = books[non_numeric_years]\n",
    "\n",
    "books_with_non_numeric_years"
   ],
   "metadata": {
    "collapsed": false,
    "ExecuteTime": {
     "start_time": "2023-07-23T02:40:03.729447Z",
     "end_time": "2023-07-23T02:40:03.851446Z"
    }
   }
  },
  {
   "cell_type": "code",
   "execution_count": 8,
   "outputs": [
    {
     "data": {
      "text/plain": "              ISBN                                          bookTitle  \\\n209538  078946697X  DK Readers: Creating the X-Men, How It All Beg...   \n220731  2070426769  Peuple du ciel, suivi de 'Les Bergers\\\";Jean-M...   \n221678  0789466953  DK Readers: Creating the X-Men, How Comic Book...   \n\n       bookAuthor  yearOfPublication  \\\n209538       2000  DK Publishing Inc   \n220731       2003          Gallimard   \n221678       2000  DK Publishing Inc   \n\n                                                publisher  \\\n209538  http://images.amazon.com/images/P/078946697X.0...   \n220731  http://images.amazon.com/images/P/2070426769.0...   \n221678  http://images.amazon.com/images/P/0789466953.0...   \n\n                                                imageUrlS  \\\n209538  http://images.amazon.com/images/P/078946697X.0...   \n220731  http://images.amazon.com/images/P/2070426769.0...   \n221678  http://images.amazon.com/images/P/0789466953.0...   \n\n                                                imageUrlM imageUrlL  \n209538  http://images.amazon.com/images/P/078946697X.0...       NaN  \n220731  http://images.amazon.com/images/P/2070426769.0...       NaN  \n221678  http://images.amazon.com/images/P/0789466953.0...       NaN  ",
      "text/html": "<div>\n<style scoped>\n    .dataframe tbody tr th:only-of-type {\n        vertical-align: middle;\n    }\n\n    .dataframe tbody tr th {\n        vertical-align: top;\n    }\n\n    .dataframe thead th {\n        text-align: right;\n    }\n</style>\n<table border=\"1\" class=\"dataframe\">\n  <thead>\n    <tr style=\"text-align: right;\">\n      <th></th>\n      <th>ISBN</th>\n      <th>bookTitle</th>\n      <th>bookAuthor</th>\n      <th>yearOfPublication</th>\n      <th>publisher</th>\n      <th>imageUrlS</th>\n      <th>imageUrlM</th>\n      <th>imageUrlL</th>\n    </tr>\n  </thead>\n  <tbody>\n    <tr>\n      <th>209538</th>\n      <td>078946697X</td>\n      <td>DK Readers: Creating the X-Men, How It All Beg...</td>\n      <td>2000</td>\n      <td>DK Publishing Inc</td>\n      <td>http://images.amazon.com/images/P/078946697X.0...</td>\n      <td>http://images.amazon.com/images/P/078946697X.0...</td>\n      <td>http://images.amazon.com/images/P/078946697X.0...</td>\n      <td>NaN</td>\n    </tr>\n    <tr>\n      <th>220731</th>\n      <td>2070426769</td>\n      <td>Peuple du ciel, suivi de 'Les Bergers\\\";Jean-M...</td>\n      <td>2003</td>\n      <td>Gallimard</td>\n      <td>http://images.amazon.com/images/P/2070426769.0...</td>\n      <td>http://images.amazon.com/images/P/2070426769.0...</td>\n      <td>http://images.amazon.com/images/P/2070426769.0...</td>\n      <td>NaN</td>\n    </tr>\n    <tr>\n      <th>221678</th>\n      <td>0789466953</td>\n      <td>DK Readers: Creating the X-Men, How Comic Book...</td>\n      <td>2000</td>\n      <td>DK Publishing Inc</td>\n      <td>http://images.amazon.com/images/P/0789466953.0...</td>\n      <td>http://images.amazon.com/images/P/0789466953.0...</td>\n      <td>http://images.amazon.com/images/P/0789466953.0...</td>\n      <td>NaN</td>\n    </tr>\n  </tbody>\n</table>\n</div>"
     },
     "execution_count": 8,
     "metadata": {},
     "output_type": "execute_result"
    }
   ],
   "source": [
    "books_with_non_numeric_years"
   ],
   "metadata": {
    "collapsed": false,
    "ExecuteTime": {
     "start_time": "2023-07-23T02:40:03.853448Z",
     "end_time": "2023-07-23T02:40:03.930441Z"
    }
   }
  },
  {
   "cell_type": "code",
   "execution_count": 9,
   "outputs": [],
   "source": [
    "# Get indices of rows with shifted values\n",
    "shifted_indices = books[books['yearOfPublication'].isin(['DK Publishing Inc', 'Gallimard'])].index\n",
    "\n",
    "# Shift values to the right\n",
    "for idx in shifted_indices:\n",
    "    books.loc[idx, 'bookAuthor':] = books.loc[idx, 'bookAuthor':].shift(1)"
   ],
   "metadata": {
    "collapsed": false,
    "ExecuteTime": {
     "start_time": "2023-07-23T02:40:03.886452Z",
     "end_time": "2023-07-23T02:40:04.026102Z"
    }
   }
  },
  {
   "cell_type": "code",
   "execution_count": 10,
   "outputs": [],
   "source": [
    "# Find the books with missing 'bookAuthor' information\n",
    "missing_authors = books[books['bookAuthor'].isnull()]\n",
    "\n",
    "# Assuming you found that the book with missing 'bookAuthor' was written by 'Author Name'\n",
    "books.at[missing_authors.index[0], 'bookAuthor'] = 'Michael Teitelbaum'\n",
    "books.at[missing_authors.index[1], 'bookAuthor'] = 'Jean-Marie Gustave Le Clézio'\n",
    "books.at[missing_authors.index[2], 'bookAuthor'] = 'James Buckley'\n",
    "\n",
    "books.at[missing_authors.index[0], 'bookTitle'] = 'DK Readers: Creating the X-Men, How It All Began (Level 4: Proficient Readers)'\n",
    "books.at[missing_authors.index[1], 'bookTitle'] = 'Peuple du ciel, suivi de \\'Les Bergers'\n",
    "books.at[missing_authors.index[2], 'bookTitle'] = 'DK Readers: Creating the X-Men, How Comic Books Come to Life (Level 4: Proficient Readers)'"
   ],
   "metadata": {
    "collapsed": false,
    "ExecuteTime": {
     "start_time": "2023-07-23T02:40:03.918443Z",
     "end_time": "2023-07-23T02:40:04.066086Z"
    }
   }
  },
  {
   "cell_type": "code",
   "execution_count": 11,
   "outputs": [],
   "source": [
    "books['yearOfPublication'] = pd.to_numeric(books['yearOfPublication'], errors='coerce')"
   ],
   "metadata": {
    "collapsed": false,
    "ExecuteTime": {
     "start_time": "2023-07-23T02:40:03.947085Z",
     "end_time": "2023-07-23T02:40:04.222086Z"
    }
   }
  },
  {
   "cell_type": "code",
   "execution_count": 20,
   "outputs": [
    {
     "data": {
      "text/plain": "              ISBN                                          bookTitle  \\\n176     3150000335                                   Kabale Und Liebe   \n188     342311360X                            Die Liebe in Den Zelten   \n288     0571197639                        Poisonwood Bible Edition Uk   \n351     3596214629       Herr Der Fliegen (Fiction, Poetry and Drama)   \n542     8845229041  Biblioteca Universale Rizzoli: Sulla Sponda De...   \n...            ...                                                ...   \n270794  014029953X                         Foe (Essential.penguin S.)   \n270913  0340571187                                     Postmens House   \n271094  8427201079                           El Misterio De Sittaford   \n271182  0887781721                                          Tom Penny   \n271196  3150013763                                     Der Hofmeister   \n\n                    bookAuthor  yearOfPublication  \\\n176                   Schiller                  0   \n188     Gabriel Garcia Marquez                  0   \n288         Barbara Kingsolver                  0   \n351                    Golding                  0   \n542                   P Coelho                  0   \n...                        ...                ...   \n270794            J.M. Coetzee                  0   \n270913        Maggie Hemingway                  0   \n271094         Agatha Christie                  0   \n271182             Tony German                  0   \n271196              Jakob Lenz                  0   \n\n                                 publisher  \\\n176        Philipp Reclam, Jun Verlag GmbH   \n188     Deutscher Taschenbuch Verlag (DTV)   \n288                        Faber Faber Inc   \n351        Fischer Taschenbuch Verlag GmbH   \n542                     Fabbri - RCS Libri   \n...                                    ...   \n270794                   Penguin Books Ltd   \n270913                    Trafalgar Square   \n271094                    Editorial Molino   \n271182                P. Martin Associates   \n271196     Philipp Reclam, Jun Verlag GmbH   \n\n                                                imageUrlS  \\\n176     http://images.amazon.com/images/P/3150000335.0...   \n188     http://images.amazon.com/images/P/342311360X.0...   \n288     http://images.amazon.com/images/P/0571197639.0...   \n351     http://images.amazon.com/images/P/3596214629.0...   \n542     http://images.amazon.com/images/P/8845229041.0...   \n...                                                   ...   \n270794  http://images.amazon.com/images/P/014029953X.0...   \n270913  http://images.amazon.com/images/P/0340571187.0...   \n271094  http://images.amazon.com/images/P/8427201079.0...   \n271182  http://images.amazon.com/images/P/0887781721.0...   \n271196  http://images.amazon.com/images/P/3150013763.0...   \n\n                                                imageUrlM  \\\n176     http://images.amazon.com/images/P/3150000335.0...   \n188     http://images.amazon.com/images/P/342311360X.0...   \n288     http://images.amazon.com/images/P/0571197639.0...   \n351     http://images.amazon.com/images/P/3596214629.0...   \n542     http://images.amazon.com/images/P/8845229041.0...   \n...                                                   ...   \n270794  http://images.amazon.com/images/P/014029953X.0...   \n270913  http://images.amazon.com/images/P/0340571187.0...   \n271094  http://images.amazon.com/images/P/8427201079.0...   \n271182  http://images.amazon.com/images/P/0887781721.0...   \n271196  http://images.amazon.com/images/P/3150013763.0...   \n\n                                                imageUrlL  \n176     http://images.amazon.com/images/P/3150000335.0...  \n188     http://images.amazon.com/images/P/342311360X.0...  \n288     http://images.amazon.com/images/P/0571197639.0...  \n351     http://images.amazon.com/images/P/3596214629.0...  \n542     http://images.amazon.com/images/P/8845229041.0...  \n...                                                   ...  \n270794  http://images.amazon.com/images/P/014029953X.0...  \n270913  http://images.amazon.com/images/P/0340571187.0...  \n271094  http://images.amazon.com/images/P/8427201079.0...  \n271182  http://images.amazon.com/images/P/0887781721.0...  \n271196  http://images.amazon.com/images/P/3150013763.0...  \n\n[4620 rows x 8 columns]",
      "text/html": "<div>\n<style scoped>\n    .dataframe tbody tr th:only-of-type {\n        vertical-align: middle;\n    }\n\n    .dataframe tbody tr th {\n        vertical-align: top;\n    }\n\n    .dataframe thead th {\n        text-align: right;\n    }\n</style>\n<table border=\"1\" class=\"dataframe\">\n  <thead>\n    <tr style=\"text-align: right;\">\n      <th></th>\n      <th>ISBN</th>\n      <th>bookTitle</th>\n      <th>bookAuthor</th>\n      <th>yearOfPublication</th>\n      <th>publisher</th>\n      <th>imageUrlS</th>\n      <th>imageUrlM</th>\n      <th>imageUrlL</th>\n    </tr>\n  </thead>\n  <tbody>\n    <tr>\n      <th>176</th>\n      <td>3150000335</td>\n      <td>Kabale Und Liebe</td>\n      <td>Schiller</td>\n      <td>0</td>\n      <td>Philipp Reclam, Jun Verlag GmbH</td>\n      <td>http://images.amazon.com/images/P/3150000335.0...</td>\n      <td>http://images.amazon.com/images/P/3150000335.0...</td>\n      <td>http://images.amazon.com/images/P/3150000335.0...</td>\n    </tr>\n    <tr>\n      <th>188</th>\n      <td>342311360X</td>\n      <td>Die Liebe in Den Zelten</td>\n      <td>Gabriel Garcia Marquez</td>\n      <td>0</td>\n      <td>Deutscher Taschenbuch Verlag (DTV)</td>\n      <td>http://images.amazon.com/images/P/342311360X.0...</td>\n      <td>http://images.amazon.com/images/P/342311360X.0...</td>\n      <td>http://images.amazon.com/images/P/342311360X.0...</td>\n    </tr>\n    <tr>\n      <th>288</th>\n      <td>0571197639</td>\n      <td>Poisonwood Bible Edition Uk</td>\n      <td>Barbara Kingsolver</td>\n      <td>0</td>\n      <td>Faber Faber Inc</td>\n      <td>http://images.amazon.com/images/P/0571197639.0...</td>\n      <td>http://images.amazon.com/images/P/0571197639.0...</td>\n      <td>http://images.amazon.com/images/P/0571197639.0...</td>\n    </tr>\n    <tr>\n      <th>351</th>\n      <td>3596214629</td>\n      <td>Herr Der Fliegen (Fiction, Poetry and Drama)</td>\n      <td>Golding</td>\n      <td>0</td>\n      <td>Fischer Taschenbuch Verlag GmbH</td>\n      <td>http://images.amazon.com/images/P/3596214629.0...</td>\n      <td>http://images.amazon.com/images/P/3596214629.0...</td>\n      <td>http://images.amazon.com/images/P/3596214629.0...</td>\n    </tr>\n    <tr>\n      <th>542</th>\n      <td>8845229041</td>\n      <td>Biblioteca Universale Rizzoli: Sulla Sponda De...</td>\n      <td>P Coelho</td>\n      <td>0</td>\n      <td>Fabbri - RCS Libri</td>\n      <td>http://images.amazon.com/images/P/8845229041.0...</td>\n      <td>http://images.amazon.com/images/P/8845229041.0...</td>\n      <td>http://images.amazon.com/images/P/8845229041.0...</td>\n    </tr>\n    <tr>\n      <th>...</th>\n      <td>...</td>\n      <td>...</td>\n      <td>...</td>\n      <td>...</td>\n      <td>...</td>\n      <td>...</td>\n      <td>...</td>\n      <td>...</td>\n    </tr>\n    <tr>\n      <th>270794</th>\n      <td>014029953X</td>\n      <td>Foe (Essential.penguin S.)</td>\n      <td>J.M. Coetzee</td>\n      <td>0</td>\n      <td>Penguin Books Ltd</td>\n      <td>http://images.amazon.com/images/P/014029953X.0...</td>\n      <td>http://images.amazon.com/images/P/014029953X.0...</td>\n      <td>http://images.amazon.com/images/P/014029953X.0...</td>\n    </tr>\n    <tr>\n      <th>270913</th>\n      <td>0340571187</td>\n      <td>Postmens House</td>\n      <td>Maggie Hemingway</td>\n      <td>0</td>\n      <td>Trafalgar Square</td>\n      <td>http://images.amazon.com/images/P/0340571187.0...</td>\n      <td>http://images.amazon.com/images/P/0340571187.0...</td>\n      <td>http://images.amazon.com/images/P/0340571187.0...</td>\n    </tr>\n    <tr>\n      <th>271094</th>\n      <td>8427201079</td>\n      <td>El Misterio De Sittaford</td>\n      <td>Agatha Christie</td>\n      <td>0</td>\n      <td>Editorial Molino</td>\n      <td>http://images.amazon.com/images/P/8427201079.0...</td>\n      <td>http://images.amazon.com/images/P/8427201079.0...</td>\n      <td>http://images.amazon.com/images/P/8427201079.0...</td>\n    </tr>\n    <tr>\n      <th>271182</th>\n      <td>0887781721</td>\n      <td>Tom Penny</td>\n      <td>Tony German</td>\n      <td>0</td>\n      <td>P. Martin Associates</td>\n      <td>http://images.amazon.com/images/P/0887781721.0...</td>\n      <td>http://images.amazon.com/images/P/0887781721.0...</td>\n      <td>http://images.amazon.com/images/P/0887781721.0...</td>\n    </tr>\n    <tr>\n      <th>271196</th>\n      <td>3150013763</td>\n      <td>Der Hofmeister</td>\n      <td>Jakob Lenz</td>\n      <td>0</td>\n      <td>Philipp Reclam, Jun Verlag GmbH</td>\n      <td>http://images.amazon.com/images/P/3150013763.0...</td>\n      <td>http://images.amazon.com/images/P/3150013763.0...</td>\n      <td>http://images.amazon.com/images/P/3150013763.0...</td>\n    </tr>\n  </tbody>\n</table>\n<p>4620 rows × 8 columns</p>\n</div>"
     },
     "execution_count": 20,
     "metadata": {},
     "output_type": "execute_result"
    }
   ],
   "source": [
    "books.loc[books['yearOfPublication'] < 1500]"
   ],
   "metadata": {
    "collapsed": false,
    "ExecuteTime": {
     "start_time": "2023-07-23T11:07:38.330906Z",
     "end_time": "2023-07-23T11:07:38.428496Z"
    }
   }
  },
  {
   "cell_type": "code",
   "execution_count": 29,
   "outputs": [
    {
     "data": {
      "text/plain": "<Figure size 640x480 with 1 Axes>",
      "image/png": "[encoded data removed]"
     },
     "metadata": {},
     "output_type": "display_data"
    }
   ],
   "source": [
    "# Display basic statistics\n",
    "#print(users['Age'].describe())\n",
    "import matplotlib.pyplot as plt\n",
    "books['yearOfPublication'].describe()\n",
    "# Plot a histogram\n",
    "plt.hist(books['yearOfPublication'].dropna(), bins=20, color='lightblue')\n",
    "plt.title('Distribution of User Ages')\n",
    "plt.xlabel('Age')\n",
    "plt.ylabel('Number of Users')\n",
    "plt.grid(True)\n",
    "plt.show()"
   ],
   "metadata": {
    "collapsed": false,
    "ExecuteTime": {
     "start_time": "2023-07-23T12:41:53.602903Z",
     "end_time": "2023-07-23T12:41:54.106846Z"
    }
   }
  },
  {
   "cell_type": "code",
   "execution_count": 26,
   "outputs": [],
   "source": [
    "missing_year = books.loc[books['yearOfPublication'] < 1500]\n",
    "books.at[missing_year.index[0], 'yearOfPublication'] = 1784\n",
    "books.at[missing_year.index[1], 'yearOfPublication'] = 1985\n",
    "books.at[missing_year.index[2], 'yearOfPublication'] = 1998\n",
    "books.at[missing_year.index[3], 'yearOfPublication'] = 1954\n",
    "books.at[missing_year.index[4], 'yearOfPublication'] = 1988\n",
    "books.at[missing_year.index[5], 'yearOfPublication'] = 1975\n",
    "books.at[missing_year.index[6], 'yearOfPublication'] = 1932\n",
    "books.at[missing_year.index[7], 'yearOfPublication'] = 1943\n",
    "books.at[missing_year.index[8], 'yearOfPublication'] = 1912\n",
    "\n",
    "import numpy as np\n",
    "# Set year '0' to NaN\n",
    "books.loc[books['yearOfPublication'] == 0, 'yearOfPublication'] = np.nan\n",
    "\n",
    "# Set future years to NaN\n",
    "books.loc[books['yearOfPublication'] > 2023, 'yearOfPublication'] = np.nan\n",
    "\n",
    "# Set unusually old years to NaN\n",
    "books.loc[books['yearOfPublication'] < 1500, 'yearOfPublication'] = np.nan\n"
   ],
   "metadata": {
    "collapsed": false,
    "ExecuteTime": {
     "start_time": "2023-07-23T11:18:18.732701Z",
     "end_time": "2023-07-23T11:18:18.806207Z"
    }
   }
  },
  {
   "cell_type": "code",
   "execution_count": 30,
   "outputs": [],
   "source": [
    "# Drop the rows where 'yearOfPublication' is NaN\n",
    "books = books.dropna(subset=['yearOfPublication'])\n",
    "\n",
    "# Make sure to convert the 'yearOfPublication' to integer type\n",
    "books['yearOfPublication'] = books['yearOfPublication'].astype(int)"
   ],
   "metadata": {
    "collapsed": false,
    "ExecuteTime": {
     "start_time": "2023-07-23T12:47:56.761239Z",
     "end_time": "2023-07-23T12:47:56.870028Z"
    }
   }
  },
  {
   "cell_type": "code",
   "execution_count": 34,
   "outputs": [
    {
     "name": "stdout",
     "output_type": "stream",
     "text": [
      "[ 5  3  6  8  7 10  9  4  1  2]\n"
     ]
    }
   ],
   "source": [
    "# Create a condition where bookRating is not equal to 0\n",
    "condition = ratings['bookRating'] != 0\n",
    "\n",
    "# Use the condition to filter the Ratings dataframe\n",
    "ratings = ratings[condition]\n",
    "\n",
    "# Let's verify that it worked\n",
    "print(ratings['bookRating'].unique())"
   ],
   "metadata": {
    "collapsed": false,
    "ExecuteTime": {
     "start_time": "2023-07-23T14:21:39.576461Z",
     "end_time": "2023-07-23T14:21:39.870634Z"
    }
   }
  },
  {
   "cell_type": "markdown",
   "source": [
    "## Feature Engineering and Data Transformation"
   ],
   "metadata": {
    "collapsed": false
   }
  },
  {
   "cell_type": "code",
   "execution_count": 35,
   "outputs": [
    {
     "data": {
      "text/plain": "<Figure size 640x480 with 1 Axes>",
      "image/png": "[encoded data removed]"
     },
     "metadata": {},
     "output_type": "display_data"
    }
   ],
   "source": [
    "import matplotlib.pyplot as plt\n",
    "\n",
    "# Plot a histogram of 'bookRating'\n",
    "ratings['bookRating'].hist(bins=20)\n",
    "plt.xlabel('Book Rating')\n",
    "plt.ylabel('Count')\n",
    "plt.title('Distribution of Book Ratings')\n",
    "plt.show()"
   ],
   "metadata": {
    "collapsed": false,
    "ExecuteTime": {
     "start_time": "2023-07-23T14:26:08.694406Z",
     "end_time": "2023-07-23T14:26:10.199549Z"
    }
   }
  },
  {
   "cell_type": "code",
   "execution_count": 36,
   "outputs": [
    {
     "data": {
      "text/plain": "<Figure size 640x480 with 1 Axes>",
      "image/png": "[encoded data removed]"
     },
     "metadata": {},
     "output_type": "display_data"
    }
   ],
   "source": [
    "import numpy as np\n",
    "\n",
    "# Apply a log transformation to 'bookRating'\n",
    "ratings['bookRating'] = np.log1p(ratings['bookRating'])\n",
    "\n",
    "# Check the new distribution\n",
    "ratings['bookRating'].hist(bins=20)\n",
    "plt.xlabel('Log Transformed Book Rating')\n",
    "plt.ylabel('Count')\n",
    "plt.title('Distribution of Log Transformed Book Ratings')\n",
    "plt.show()\n"
   ],
   "metadata": {
    "collapsed": false,
    "ExecuteTime": {
     "start_time": "2023-07-23T14:28:45.483349Z",
     "end_time": "2023-07-23T14:28:46.325671Z"
    }
   }
  },
  {
   "cell_type": "code",
   "execution_count": 44,
   "outputs": [],
   "source": [
    "# Count of how many items a user has interacted with\n",
    "user_interactions = ratings.groupby('userID')['ISBN'].count().reset_index().rename(columns={'ISBN':'userInteractionCount'})\n",
    "\n",
    "# Count of how many users have interacted with an item\n",
    "book_interactions = ratings.groupby('ISBN')['userID'].count().reset_index().rename(columns={'userID':'bookInteractionCount'})\n",
    "\n",
    "# Merge these features into the Ratings dataframe\n",
    "ratings_usr = pd.merge(ratings, user_interactions, on='userID')\n",
    "ratings_usr = pd.merge(ratings_usr, book_interactions, on='ISBN')"
   ],
   "metadata": {
    "collapsed": false,
    "ExecuteTime": {
     "start_time": "2023-07-23T14:48:55.644239Z",
     "end_time": "2023-07-23T14:48:57.213863Z"
    }
   }
  },
  {
   "cell_type": "code",
   "execution_count": 46,
   "outputs": [],
   "source": [
    "# Save the DataFrames to CSV files\n",
    "users.to_csv('../data/processed/users_cleaned.csv', index=False)\n",
    "books.to_csv('../data/processed/books_cleaned.csv', index=False)\n",
    "ratings.to_csv('../data/processed/ratings_cleaned.csv', index=False)\n",
    "ratings_usr.to_csv('../data/processed/ratings_cleaned_engineered.csv', index=False)"
   ],
   "metadata": {
    "collapsed": false,
    "ExecuteTime": {
     "start_time": "2023-07-23T15:24:32.681001Z",
     "end_time": "2023-07-23T15:24:46.538838Z"
    }
   }
  }
 ],
 "metadata": {
  "kernelspec": {
   "display_name": "Python 3",
   "language": "python",
   "name": "python3"
  },
  "language_info": {
   "codemirror_mode": {
    "name": "ipython",
    "version": 2
   },
   "file_extension": ".py",
   "mimetype": "text/x-python",
   "name": "python",
   "nbconvert_exporter": "python",
   "pygments_lexer": "ipython2",
   "version": "2.7.6"
  }
 },
 "nbformat": 4,
 "nbformat_minor": 0
}
