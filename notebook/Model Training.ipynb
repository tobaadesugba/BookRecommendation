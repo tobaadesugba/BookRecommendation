{
 "cells": [
  {
   "cell_type": "code",
   "execution_count": 1,
   "metadata": {
    "collapsed": true,
    "ExecuteTime": {
     "start_time": "2023-08-27T22:46:49.378247Z",
     "end_time": "2023-08-27T22:46:57.524852Z"
    }
   },
   "outputs": [],
   "source": [
    "from surprise import SVD, Dataset, Reader\n",
    "from surprise.model_selection import train_test_split\n",
    "from surprise import accuracy\n",
    "import pandas as pd\n",
    "import numpy as np"
   ]
  },
  {
   "cell_type": "code",
   "execution_count": 2,
   "outputs": [],
   "source": [
    "data_dir = \"../data/processed/ratings_cleaned.csv\" # use cleaned data with no standardization\n",
    "ratings = pd.read_csv(data_dir, encoding=\"latin-1\")"
   ],
   "metadata": {
    "collapsed": false,
    "ExecuteTime": {
     "start_time": "2023-08-27T22:47:29.031827Z",
     "end_time": "2023-08-27T22:47:29.490076Z"
    }
   }
  },
  {
   "cell_type": "code",
   "execution_count": 11,
   "outputs": [
    {
     "name": "stdout",
     "output_type": "stream",
     "text": [
      "<class 'pandas.core.frame.DataFrame'>\n",
      "RangeIndex: 433671 entries, 0 to 433670\n",
      "Data columns (total 3 columns):\n",
      " #   Column      Non-Null Count   Dtype  \n",
      "---  ------      --------------   -----  \n",
      " 0   userID      433671 non-null  int64  \n",
      " 1   ISBN        433671 non-null  object \n",
      " 2   bookRating  433671 non-null  float64\n",
      "dtypes: float64(1), int64(1), object(1)\n",
      "memory usage: 9.9+ MB\n"
     ]
    }
   ],
   "source": [
    "ratings.info()"
   ],
   "metadata": {
    "collapsed": false,
    "ExecuteTime": {
     "start_time": "2023-08-28T00:09:26.915928Z",
     "end_time": "2023-08-28T00:09:27.484251Z"
    }
   }
  },
  {
   "cell_type": "code",
   "execution_count": 3,
   "outputs": [],
   "source": [
    "# Define a Reader object\n",
    "reader = Reader(rating_scale=(0, 10))\n",
    "\n",
    "# Create the dataset to be used for building the filter\n",
    "data = Dataset.load_from_df(ratings[['userID', 'ISBN', 'bookRating']], reader)"
   ],
   "metadata": {
    "collapsed": false,
    "ExecuteTime": {
     "start_time": "2023-08-27T22:47:30.481844Z",
     "end_time": "2023-08-27T22:47:31.527597Z"
    }
   }
  },
  {
   "cell_type": "markdown",
   "source": [
    "To get the baseline RMSE we need to predict the averge rating for all items and then find the RMSE"
   ],
   "metadata": {
    "collapsed": false
   }
  },
  {
   "cell_type": "code",
   "execution_count": 4,
   "outputs": [
    {
     "name": "stdout",
     "output_type": "stream",
     "text": [
      "Baseline RMSE using average rating: 0.25286942344335483\n",
      "Baseline MAE using average rating: 0.19011309225380876\n"
     ]
    }
   ],
   "source": [
    "# Split the dataset into a training set and a test set\n",
    "trainset, testset = train_test_split(data, test_size=0.25)\n",
    "\n",
    "# Compute the average rating\n",
    "avg_rating = np.mean([rating for (_, _, rating) in trainset.all_ratings()])\n",
    "\n",
    "# Predict this average rating for all items in the test set\n",
    "predictions = [avg_rating for _ in testset]\n",
    "actual_ratings = [rating for (_, _, rating) in testset]\n",
    "\n",
    "# Calculate the RMSE\n",
    "mse = np.mean((np.array(predictions) - np.array(actual_ratings))**2)\n",
    "rmse_baseline = np.sqrt(mse)\n",
    "mae_baseline = np.mean(np.abs(np.array(predictions) - np.array(actual_ratings)))\n",
    "\n",
    "print(f'Baseline RMSE using average rating: {rmse_baseline}')\n",
    "print(f'Baseline MAE using average rating: {mae_baseline}')"
   ],
   "metadata": {
    "collapsed": false,
    "ExecuteTime": {
     "start_time": "2023-08-27T22:47:32.569186Z",
     "end_time": "2023-08-27T22:47:34.372191Z"
    }
   }
  },
  {
   "cell_type": "markdown",
   "source": [
    "With the baseline set, we can move on to getting a better evaluation metric with our model"
   ],
   "metadata": {
    "collapsed": false
   }
  },
  {
   "cell_type": "markdown",
   "source": [
    "### SVD"
   ],
   "metadata": {
    "collapsed": false
   }
  },
  {
   "cell_type": "code",
   "execution_count": 16,
   "outputs": [
    {
     "data": {
      "text/plain": "<surprise.prediction_algorithms.matrix_factorization.SVD at 0x1b0c7cdb6a0>"
     },
     "execution_count": 16,
     "metadata": {},
     "output_type": "execute_result"
    }
   ],
   "source": [
    "# Define the SVD algorithm object\n",
    "svd = SVD()\n",
    "\n",
    "# Train the algorithm on the training set\n",
    "svd.fit(trainset)"
   ],
   "metadata": {
    "collapsed": false,
    "ExecuteTime": {
     "start_time": "2023-08-26T08:09:01.809599Z",
     "end_time": "2023-08-26T08:09:21.375742Z"
    }
   }
  },
  {
   "cell_type": "code",
   "execution_count": 17,
   "outputs": [
    {
     "name": "stdout",
     "output_type": "stream",
     "text": [
      "RMSE: 0.2372\n",
      "MAE:  0.1694\n"
     ]
    }
   ],
   "source": [
    "# Predict ratings for the test set\n",
    "predictions = svd.test(testset)\n",
    "\n",
    "# Compute and print the Root Mean Squared Error (RMSE)\n",
    "rmse = accuracy.rmse(predictions)\n",
    "mae = accuracy.mae(predictions)"
   ],
   "metadata": {
    "collapsed": false,
    "ExecuteTime": {
     "start_time": "2023-08-26T08:09:21.379745Z",
     "end_time": "2023-08-26T08:09:22.586844Z"
    }
   }
  },
  {
   "cell_type": "markdown",
   "source": [
    "The RMSE only improved a little, let's try cross validating"
   ],
   "metadata": {
    "collapsed": false
   }
  },
  {
   "cell_type": "code",
   "execution_count": 18,
   "outputs": [
    {
     "name": "stdout",
     "output_type": "stream",
     "text": [
      "Evaluating RMSE, MAE of algorithm SVD on 5 split(s).\n",
      "\n",
      "                  Fold 1  Fold 2  Fold 3  Fold 4  Fold 5  Mean    Std     \n",
      "RMSE (testset)    0.2376  0.2400  0.2344  0.2376  0.2351  0.2369  0.0020  \n",
      "MAE (testset)     0.1693  0.1706  0.1682  0.1698  0.1683  0.1692  0.0009  \n",
      "Fit time          21.71   21.02   22.05   21.08   21.53   21.48   0.39    \n",
      "Test time         0.58    0.58    0.56    1.01    1.10    0.77    0.24    \n"
     ]
    },
    {
     "data": {
      "text/plain": "{'test_rmse': array([0.23759023, 0.23997848, 0.23440952, 0.23762851, 0.23511512]),\n 'test_mae': array([0.16933493, 0.17055345, 0.16820098, 0.16979305, 0.1682825 ]),\n 'fit_time': (21.706475734710693,\n  21.020883560180664,\n  22.048755407333374,\n  21.07952117919922,\n  21.533440828323364),\n 'test_time': (0.5811326503753662,\n  0.577904224395752,\n  0.5647735595703125,\n  1.005915880203247,\n  1.1047651767730713)}"
     },
     "execution_count": 18,
     "metadata": {},
     "output_type": "execute_result"
    }
   ],
   "source": [
    "from surprise.model_selection import cross_validate\n",
    "\n",
    "# Define the SVD algorithm object\n",
    "svd_cv = SVD()\n",
    "\n",
    "# Run 5-fold cross-validation and print results\n",
    "cross_validate(svd_cv, data, measures=['RMSE', 'MAE'], cv=5, verbose=True)\n"
   ],
   "metadata": {
    "collapsed": false,
    "ExecuteTime": {
     "start_time": "2023-08-26T08:09:22.617479Z",
     "end_time": "2023-08-26T08:11:20.003226Z"
    }
   }
  },
  {
   "cell_type": "markdown",
   "source": [
    "The standard deviation shows that the results are not too far from each other, let's try grid search"
   ],
   "metadata": {
    "collapsed": false
   }
  },
  {
   "cell_type": "markdown",
   "source": [
    "### NMF"
   ],
   "metadata": {
    "collapsed": false
   }
  },
  {
   "cell_type": "code",
   "execution_count": 14,
   "outputs": [
    {
     "data": {
      "text/plain": "<surprise.prediction_algorithms.matrix_factorization.NMF at 0x272736f0b20>"
     },
     "execution_count": 14,
     "metadata": {},
     "output_type": "execute_result"
    }
   ],
   "source": [
    "from surprise import NMF\n",
    "from surprise.model_selection import train_test_split\n",
    "\n",
    "# Create and train the NMF model\n",
    "nmf_model = NMF(n_factors=150)  # You can adjust the number of factors\n",
    "nmf_model.fit(trainset)"
   ],
   "metadata": {
    "collapsed": false,
    "ExecuteTime": {
     "start_time": "2023-08-26T21:24:37.239988Z",
     "end_time": "2023-08-26T21:27:56.715740Z"
    }
   }
  },
  {
   "cell_type": "code",
   "execution_count": 15,
   "outputs": [
    {
     "name": "stdout",
     "output_type": "stream",
     "text": [
      "RMSE: 0.2662\n",
      "MAE:  0.1937\n",
      "NMF RMSE: 0.2662168171469821\n",
      "NMF MAE: 0.1936650650670354\n"
     ]
    }
   ],
   "source": [
    "# Predict ratings for the testset\n",
    "predictions = nmf_model.test(testset)\n",
    "\n",
    "# Calculate RMSE and MAE\n",
    "rmse_nmf = accuracy.rmse(predictions)\n",
    "mae_nmf = accuracy.mae(predictions)\n",
    "\n",
    "print(f'NMF RMSE: {rmse_nmf}')\n",
    "print(f'NMF MAE: {mae_nmf}')"
   ],
   "metadata": {
    "collapsed": false,
    "ExecuteTime": {
     "start_time": "2023-08-26T21:28:54.306253Z",
     "end_time": "2023-08-26T21:28:55.363120Z"
    }
   }
  },
  {
   "cell_type": "markdown",
   "source": [
    "### KNN - User based"
   ],
   "metadata": {
    "collapsed": false
   }
  },
  {
   "cell_type": "code",
   "execution_count": 5,
   "outputs": [
    {
     "data": {
      "text/plain": "<surprise.prediction_algorithms.matrix_factorization.SVDpp at 0x27a176b3d90>"
     },
     "execution_count": 5,
     "metadata": {},
     "output_type": "execute_result"
    }
   ],
   "source": [
    "from surprise import SVDpp\n",
    "\n",
    "# Create and train the \\(k\\)NN model\n",
    "svdpp_model = SVDpp()\n",
    "svdpp_model.fit(trainset)"
   ],
   "metadata": {
    "collapsed": false,
    "ExecuteTime": {
     "start_time": "2023-08-27T22:47:43.559333Z",
     "end_time": "2023-08-27T23:18:21.637305Z"
    }
   }
  },
  {
   "cell_type": "code",
   "execution_count": 6,
   "outputs": [
    {
     "name": "stdout",
     "output_type": "stream",
     "text": [
      "RMSE: 0.2303\n",
      "MAE:  0.1628\n",
      "SVD++ RMSE: 0.23027854060933062\n",
      "SVD++ MAE: 0.1627650180544325\n"
     ]
    }
   ],
   "source": [
    "predictions = svdpp_model.test(testset)\n",
    "\n",
    "# Calculate RMSE and MAE\n",
    "rmse_svdpp = accuracy.rmse(predictions)\n",
    "mae_svdpp = accuracy.mae(predictions)\n",
    "\n",
    "print(f'SVD++ RMSE: {rmse_svdpp}')\n",
    "print(f'SVD++ MAE: {mae_svdpp}')\n"
   ],
   "metadata": {
    "collapsed": false,
    "ExecuteTime": {
     "start_time": "2023-08-27T23:23:05.612988Z",
     "end_time": "2023-08-27T23:23:27.969800Z"
    }
   }
  },
  {
   "cell_type": "markdown",
   "source": [
    "### KNN - Item based"
   ],
   "metadata": {
    "collapsed": false
   }
  },
  {
   "cell_type": "code",
   "execution_count": 17,
   "outputs": [
    {
     "name": "stdout",
     "output_type": "stream",
     "text": [
      "user: 276780     item: 0806917695 r_ui = None   est = 2.13   {'was_impossible': False}\n"
     ]
    }
   ],
   "source": [
    "uid = 276780  # user ID as string\n",
    "iid = str('0806917695')  # book ID as string\n",
    "\n",
    "# Get prediction\n",
    "pred = svdpp_model.predict(uid, iid, verbose=True)\n"
   ],
   "metadata": {
    "collapsed": false,
    "ExecuteTime": {
     "start_time": "2023-08-28T00:13:09.497296Z",
     "end_time": "2023-08-28T00:13:09.545095Z"
    }
   }
  }
 ],
 "metadata": {
  "kernelspec": {
   "display_name": "Python 3",
   "language": "python",
   "name": "python3"
  },
  "language_info": {
   "codemirror_mode": {
    "name": "ipython",
    "version": 2
   },
   "file_extension": ".py",
   "mimetype": "text/x-python",
   "name": "python",
   "nbconvert_exporter": "python",
   "pygments_lexer": "ipython2",
   "version": "2.7.6"
  }
 },
 "nbformat": 4,
 "nbformat_minor": 0
}
